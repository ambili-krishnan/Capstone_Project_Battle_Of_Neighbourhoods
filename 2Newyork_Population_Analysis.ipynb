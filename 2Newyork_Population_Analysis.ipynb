{
    "cells": [
        {
            "cell_type": "markdown",
            "metadata": {
                "collapsed": true
            },
            "source": "## Web Data Extraction or Web Scraping of New York city's Population and Demographic Data \n\n## ------------------------------------------------------------------------------------------------------------------------------------"
        },
        {
            "cell_type": "markdown",
            "metadata": {},
            "source": "## Part 1 - Population Data"
        },
        {
            "cell_type": "markdown",
            "metadata": {},
            "source": "## Population data is available in the following wiki page\n## https://en.wikipedia.org/wiki/New_York_City"
        },
        {
            "cell_type": "markdown",
            "metadata": {},
            "source": "## Downloading all the required libraries for Web Scraping"
        },
        {
            "cell_type": "code",
            "execution_count": 4,
            "metadata": {},
            "outputs": [
                {
                    "name": "stdout",
                    "output_type": "stream",
                    "text": "Numpy and Pandas imported\n"
                }
            ],
            "source": "# Downloading numpy and pandas\n\nimport numpy as np # library to handle data in a vectorized manner\n\nimport pandas as pd # library for data analsysis\npd.set_option('display.max_columns', None)\npd.set_option('display.max_rows', None)\n\nprint(\"Numpy and Pandas imported\")"
        },
        {
            "cell_type": "code",
            "execution_count": 5,
            "metadata": {},
            "outputs": [
                {
                    "name": "stdout",
                    "output_type": "stream",
                    "text": "Json library imported\n"
                }
            ],
            "source": "import json # library to handle JSON files\n\nprint(\"Json library imported\")"
        },
        {
            "cell_type": "code",
            "execution_count": 6,
            "metadata": {},
            "outputs": [
                {
                    "name": "stdout",
                    "output_type": "stream",
                    "text": "Requirement already satisfied: geopy in /opt/conda/envs/Python-3.7-main/lib/python3.7/site-packages (2.0.0)\nRequirement already satisfied: geographiclib<2,>=1.49 in /opt/conda/envs/Python-3.7-main/lib/python3.7/site-packages (from geopy) (1.50)\nGeopy library imported\n"
                }
            ],
            "source": "!pip install geopy\nfrom geopy.geocoders import Nominatim # module to convert an address into latitude and longitude values\nprint(\"Geopy library imported\")"
        },
        {
            "cell_type": "code",
            "execution_count": 7,
            "metadata": {},
            "outputs": [
                {
                    "name": "stdout",
                    "output_type": "stream",
                    "text": "matplotlib imported\n"
                }
            ],
            "source": "import requests # library to handle requests\nfrom pandas.io.json import json_normalize # tranform JSON file into a pandas dataframe\n\n# Matplotlib and associated plotting modules\nimport matplotlib.cm as cm\nimport matplotlib.colors as colors\nimport matplotlib.pyplot as plt\nprint(\"matplotlib imported\")"
        },
        {
            "cell_type": "code",
            "execution_count": 96,
            "metadata": {},
            "outputs": [
                {
                    "name": "stdout",
                    "output_type": "stream",
                    "text": "Requirement already satisfied: beautifulsoup4 in /opt/conda/envs/Python-3.7-main/lib/python3.7/site-packages (4.9.1)\nRequirement already satisfied: soupsieve>1.2 in /opt/conda/envs/Python-3.7-main/lib/python3.7/site-packages (from beautifulsoup4) (2.0.1)\nRequirement already satisfied: lxml in /opt/conda/envs/Python-3.7-main/lib/python3.7/site-packages (4.5.1)\nBeautiful soup imported\n"
                }
            ],
            "source": "!pip install beautifulsoup4\n!pip install lxml\nimport requests # library to handle requests\nimport random # library for random number generation\nfrom bs4 import BeautifulSoup # package for parsing HTML and XML documents\nprint(\"Beautiful soup imported\")"
        },
        {
            "cell_type": "code",
            "execution_count": 9,
            "metadata": {
                "scrolled": true
            },
            "outputs": [
                {
                    "name": "stdout",
                    "output_type": "stream",
                    "text": "csv imported.\n"
                }
            ],
            "source": "import csv # implements classes to read and write tabular data in CSV form\n\nprint('csv imported.')"
        },
        {
            "cell_type": "markdown",
            "metadata": {},
            "source": "## Web scrapping of Population data from wikipedia page using BeautifulSoup."
        },
        {
            "cell_type": "code",
            "execution_count": 10,
            "metadata": {},
            "outputs": [],
            "source": "website_url = requests.get('https://en.wikipedia.org/wiki/Demographics_of_New_York_City').text\nsoup = BeautifulSoup(website_url,'lxml')\ntable = soup.find('table',{'class':'wikitable sortable'})\n\n\nheaders = [header.text for header in table.find_all('th')]\n\ntable_rows = table.find_all('tr')        \nrows = []\nfor row in table_rows:\n   td = row.find_all('td')\n   row = [row.text for row in td]\n   rows.append(row)\n\nwith open('BON2_POPULATION1.csv', 'w') as f:\n   writer = csv.writer(f)\n   writer.writerow(headers)\n   writer.writerows(row for row in rows if row)"
        },
        {
            "cell_type": "markdown",
            "metadata": {},
            "source": "## Laod data from csv"
        },
        {
            "cell_type": "code",
            "execution_count": 82,
            "metadata": {},
            "outputs": [
                {
                    "data": {
                        "text/html": "<div>\n<style scoped>\n    .dataframe tbody tr th:only-of-type {\n        vertical-align: middle;\n    }\n\n    .dataframe tbody tr th {\n        vertical-align: top;\n    }\n\n    .dataframe thead th {\n        text-align: right;\n    }\n</style>\n<table border=\"1\" class=\"dataframe\">\n  <thead>\n    <tr style=\"text-align: right;\">\n      <th></th>\n      <th>New York City's five boroughsvte\\n</th>\n      <th>Jurisdiction\\n</th>\n      <th>Population\\n</th>\n      <th>Gross Domestic Product\\n</th>\n      <th>Land area\\n</th>\n      <th>Density\\n</th>\n      <th>Borough</th>\n      <th>County</th>\n      <th>Estimate (2019)</th>\n      <th>billions(2012 US$)</th>\n      <th>per capita(US$)</th>\n      <th>square miles</th>\n      <th>squarekm</th>\n      <th>persons /mi2</th>\n      <th>persons /km2\\n</th>\n    </tr>\n  </thead>\n  <tbody>\n    <tr>\n      <th>0</th>\n      <td>The Bronx\\n</td>\n      <td>\\n  Bronx\\n</td>\n      <td>1,418,207\\n</td>\n      <td>42.695\\n</td>\n      <td>30,100\\n</td>\n      <td>42.10\\n</td>\n      <td>109.04\\n</td>\n      <td>33,867\\n</td>\n      <td>13,006\\n</td>\n      <td>NaN</td>\n      <td>NaN</td>\n      <td>NaN</td>\n      <td>NaN</td>\n      <td>NaN</td>\n      <td>NaN</td>\n    </tr>\n    <tr>\n      <th>1</th>\n      <td>Brooklyn\\n</td>\n      <td>\\n  Kings\\n</td>\n      <td>2,559,903\\n</td>\n      <td>91.559\\n</td>\n      <td>35,800\\n</td>\n      <td>70.82\\n</td>\n      <td>183.42\\n</td>\n      <td>36,147\\n</td>\n      <td>13,957\\n</td>\n      <td>NaN</td>\n      <td>NaN</td>\n      <td>NaN</td>\n      <td>NaN</td>\n      <td>NaN</td>\n      <td>NaN</td>\n    </tr>\n    <tr>\n      <th>2</th>\n      <td>Manhattan\\n</td>\n      <td>\\n  New York\\n</td>\n      <td>1,628,706\\n</td>\n      <td>600.244\\n</td>\n      <td>368,500\\n</td>\n      <td>22.83\\n</td>\n      <td>59.13\\n</td>\n      <td>71,341\\n</td>\n      <td>27,544\\n</td>\n      <td>NaN</td>\n      <td>NaN</td>\n      <td>NaN</td>\n      <td>NaN</td>\n      <td>NaN</td>\n      <td>NaN</td>\n    </tr>\n    <tr>\n      <th>3</th>\n      <td>Queens\\n</td>\n      <td>\\n   Queens\\n</td>\n      <td>2,253,858\\n</td>\n      <td>93.310\\n</td>\n      <td>41,400\\n</td>\n      <td>108.53\\n</td>\n      <td>281.09\\n</td>\n      <td>20,767\\n</td>\n      <td>8,018\\n</td>\n      <td>NaN</td>\n      <td>NaN</td>\n      <td>NaN</td>\n      <td>NaN</td>\n      <td>NaN</td>\n      <td>NaN</td>\n    </tr>\n    <tr>\n      <th>4</th>\n      <td>Staten Island\\n</td>\n      <td>\\n   Richmond\\n</td>\n      <td>476,143\\n</td>\n      <td>14.514\\n</td>\n      <td>30,500\\n</td>\n      <td>58.37\\n</td>\n      <td>151.18\\n</td>\n      <td>8,157\\n</td>\n      <td>3,150\\n</td>\n      <td>NaN</td>\n      <td>NaN</td>\n      <td>NaN</td>\n      <td>NaN</td>\n      <td>NaN</td>\n      <td>NaN</td>\n    </tr>\n    <tr>\n      <th>5</th>\n      <td>City of New York</td>\n      <td>8,336,817</td>\n      <td>842.343</td>\n      <td>101,000</td>\n      <td>302.64</td>\n      <td>783.83</td>\n      <td>27,547</td>\n      <td>10,636\\n</td>\n      <td>NaN</td>\n      <td>NaN</td>\n      <td>NaN</td>\n      <td>NaN</td>\n      <td>NaN</td>\n      <td>NaN</td>\n      <td>NaN</td>\n    </tr>\n    <tr>\n      <th>6</th>\n      <td>State of New York</td>\n      <td>19,453,561</td>\n      <td>1,731.910</td>\n      <td>89,000</td>\n      <td>47,126.40</td>\n      <td>122,056.82</td>\n      <td>412</td>\n      <td>159\\n</td>\n      <td>NaN</td>\n      <td>NaN</td>\n      <td>NaN</td>\n      <td>NaN</td>\n      <td>NaN</td>\n      <td>NaN</td>\n      <td>NaN</td>\n    </tr>\n    <tr>\n      <th>7</th>\n      <td>Sources:[12][13][14] and see individual boroug...</td>\n      <td>NaN</td>\n      <td>NaN</td>\n      <td>NaN</td>\n      <td>NaN</td>\n      <td>NaN</td>\n      <td>NaN</td>\n      <td>NaN</td>\n      <td>NaN</td>\n      <td>NaN</td>\n      <td>NaN</td>\n      <td>NaN</td>\n      <td>NaN</td>\n      <td>NaN</td>\n      <td>NaN</td>\n    </tr>\n  </tbody>\n</table>\n</div>",
                        "text/plain": "                  New York City's five boroughsvte\\n   Jurisdiction\\n  \\\n0                                        The Bronx\\n      \\n  Bronx\\n   \n1                                         Brooklyn\\n      \\n  Kings\\n   \n2                                        Manhattan\\n   \\n  New York\\n   \n3                                           Queens\\n    \\n   Queens\\n   \n4                                    Staten Island\\n  \\n   Richmond\\n   \n5                                   City of New York        8,336,817   \n6                                  State of New York       19,453,561   \n7  Sources:[12][13][14] and see individual boroug...              NaN   \n\n  Population\\n Gross Domestic Product\\n Land area\\n   Density\\n   Borough  \\\n0  1,418,207\\n                 42.695\\n    30,100\\n     42.10\\n  109.04\\n   \n1  2,559,903\\n                 91.559\\n    35,800\\n     70.82\\n  183.42\\n   \n2  1,628,706\\n                600.244\\n   368,500\\n     22.83\\n   59.13\\n   \n3  2,253,858\\n                 93.310\\n    41,400\\n    108.53\\n  281.09\\n   \n4    476,143\\n                 14.514\\n    30,500\\n     58.37\\n  151.18\\n   \n5      842.343                  101,000      302.64      783.83    27,547   \n6    1,731.910                   89,000   47,126.40  122,056.82       412   \n7          NaN                      NaN         NaN         NaN       NaN   \n\n     County Estimate (2019)  billions(2012 US$)  per capita(US$)  \\\n0  33,867\\n        13,006\\n                 NaN              NaN   \n1  36,147\\n        13,957\\n                 NaN              NaN   \n2  71,341\\n        27,544\\n                 NaN              NaN   \n3  20,767\\n         8,018\\n                 NaN              NaN   \n4   8,157\\n         3,150\\n                 NaN              NaN   \n5  10,636\\n             NaN                 NaN              NaN   \n6     159\\n             NaN                 NaN              NaN   \n7       NaN             NaN                 NaN              NaN   \n\n   square miles  squarekm  persons /mi2  persons /km2\\n  \n0           NaN       NaN           NaN             NaN  \n1           NaN       NaN           NaN             NaN  \n2           NaN       NaN           NaN             NaN  \n3           NaN       NaN           NaN             NaN  \n4           NaN       NaN           NaN             NaN  \n5           NaN       NaN           NaN             NaN  \n6           NaN       NaN           NaN             NaN  \n7           NaN       NaN           NaN             NaN  "
                    },
                    "execution_count": 82,
                    "metadata": {},
                    "output_type": "execute_result"
                }
            ],
            "source": "Pop_data=pd.read_csv('BON2_POPULATION1.csv')\nPop_data"
        },
        {
            "cell_type": "code",
            "execution_count": 83,
            "metadata": {},
            "outputs": [
                {
                    "data": {
                        "text/html": "<div>\n<style scoped>\n    .dataframe tbody tr th:only-of-type {\n        vertical-align: middle;\n    }\n\n    .dataframe tbody tr th {\n        vertical-align: top;\n    }\n\n    .dataframe thead th {\n        text-align: right;\n    }\n</style>\n<table border=\"1\" class=\"dataframe\">\n  <thead>\n    <tr style=\"text-align: right;\">\n      <th></th>\n      <th>New York City's five boroughsvte\\n</th>\n      <th>Jurisdiction\\n</th>\n      <th>Population\\n</th>\n      <th>Land area\\n</th>\n      <th>Density\\n</th>\n      <th>Borough</th>\n      <th>County</th>\n    </tr>\n  </thead>\n  <tbody>\n    <tr>\n      <th>0</th>\n      <td>The Bronx\\n</td>\n      <td>\\n  Bronx\\n</td>\n      <td>1,418,207\\n</td>\n      <td>30,100\\n</td>\n      <td>42.10\\n</td>\n      <td>109.04\\n</td>\n      <td>33,867\\n</td>\n    </tr>\n    <tr>\n      <th>1</th>\n      <td>Brooklyn\\n</td>\n      <td>\\n  Kings\\n</td>\n      <td>2,559,903\\n</td>\n      <td>35,800\\n</td>\n      <td>70.82\\n</td>\n      <td>183.42\\n</td>\n      <td>36,147\\n</td>\n    </tr>\n    <tr>\n      <th>2</th>\n      <td>Manhattan\\n</td>\n      <td>\\n  New York\\n</td>\n      <td>1,628,706\\n</td>\n      <td>368,500\\n</td>\n      <td>22.83\\n</td>\n      <td>59.13\\n</td>\n      <td>71,341\\n</td>\n    </tr>\n    <tr>\n      <th>3</th>\n      <td>Queens\\n</td>\n      <td>\\n   Queens\\n</td>\n      <td>2,253,858\\n</td>\n      <td>41,400\\n</td>\n      <td>108.53\\n</td>\n      <td>281.09\\n</td>\n      <td>20,767\\n</td>\n    </tr>\n    <tr>\n      <th>4</th>\n      <td>Staten Island\\n</td>\n      <td>\\n   Richmond\\n</td>\n      <td>476,143\\n</td>\n      <td>30,500\\n</td>\n      <td>58.37\\n</td>\n      <td>151.18\\n</td>\n      <td>8,157\\n</td>\n    </tr>\n    <tr>\n      <th>5</th>\n      <td>City of New York</td>\n      <td>8,336,817</td>\n      <td>842.343</td>\n      <td>302.64</td>\n      <td>783.83</td>\n      <td>27,547</td>\n      <td>10,636\\n</td>\n    </tr>\n    <tr>\n      <th>6</th>\n      <td>State of New York</td>\n      <td>19,453,561</td>\n      <td>1,731.910</td>\n      <td>47,126.40</td>\n      <td>122,056.82</td>\n      <td>412</td>\n      <td>159\\n</td>\n    </tr>\n    <tr>\n      <th>7</th>\n      <td>Sources:[12][13][14] and see individual boroug...</td>\n      <td>NaN</td>\n      <td>NaN</td>\n      <td>NaN</td>\n      <td>NaN</td>\n      <td>NaN</td>\n      <td>NaN</td>\n    </tr>\n  </tbody>\n</table>\n</div>",
                        "text/plain": "                  New York City's five boroughsvte\\n   Jurisdiction\\n  \\\n0                                        The Bronx\\n      \\n  Bronx\\n   \n1                                         Brooklyn\\n      \\n  Kings\\n   \n2                                        Manhattan\\n   \\n  New York\\n   \n3                                           Queens\\n    \\n   Queens\\n   \n4                                    Staten Island\\n  \\n   Richmond\\n   \n5                                   City of New York        8,336,817   \n6                                  State of New York       19,453,561   \n7  Sources:[12][13][14] and see individual boroug...              NaN   \n\n  Population\\n Land area\\n   Density\\n   Borough    County  \n0  1,418,207\\n    30,100\\n     42.10\\n  109.04\\n  33,867\\n  \n1  2,559,903\\n    35,800\\n     70.82\\n  183.42\\n  36,147\\n  \n2  1,628,706\\n   368,500\\n     22.83\\n   59.13\\n  71,341\\n  \n3  2,253,858\\n    41,400\\n    108.53\\n  281.09\\n  20,767\\n  \n4    476,143\\n    30,500\\n     58.37\\n  151.18\\n   8,157\\n  \n5      842.343      302.64      783.83    27,547  10,636\\n  \n6    1,731.910   47,126.40  122,056.82       412     159\\n  \n7          NaN         NaN         NaN       NaN       NaN  "
                    },
                    "execution_count": 83,
                    "metadata": {},
                    "output_type": "execute_result"
                }
            ],
            "source": "Pop_data.drop(Pop_data.columns[[3,8,9,10,11,12,13,14]], axis=1,inplace=True)\nPop_data"
        },
        {
            "cell_type": "markdown",
            "metadata": {},
            "source": "## Remove white spaces and rename columns"
        },
        {
            "cell_type": "code",
            "execution_count": 84,
            "metadata": {},
            "outputs": [
                {
                    "data": {
                        "text/html": "<div>\n<style scoped>\n    .dataframe tbody tr th:only-of-type {\n        vertical-align: middle;\n    }\n\n    .dataframe tbody tr th {\n        vertical-align: top;\n    }\n\n    .dataframe thead th {\n        text-align: right;\n    }\n</style>\n<table border=\"1\" class=\"dataframe\">\n  <thead>\n    <tr style=\"text-align: right;\">\n      <th></th>\n      <th>NewYorkCitysfiveboroughsvte\\n</th>\n      <th>Jurisdiction\\n</th>\n      <th>Population\\n</th>\n      <th>Landarea\\n</th>\n      <th>Density\\n</th>\n      <th>persons_sq_mi</th>\n      <th>persons_sq_km</th>\n    </tr>\n  </thead>\n  <tbody>\n    <tr>\n      <th>0</th>\n      <td>The Bronx\\n</td>\n      <td>\\n  Bronx\\n</td>\n      <td>1,418,207\\n</td>\n      <td>30,100\\n</td>\n      <td>42.10\\n</td>\n      <td>109.04\\n</td>\n      <td>33,867\\n</td>\n    </tr>\n    <tr>\n      <th>1</th>\n      <td>Brooklyn\\n</td>\n      <td>\\n  Kings\\n</td>\n      <td>2,559,903\\n</td>\n      <td>35,800\\n</td>\n      <td>70.82\\n</td>\n      <td>183.42\\n</td>\n      <td>36,147\\n</td>\n    </tr>\n    <tr>\n      <th>2</th>\n      <td>Manhattan\\n</td>\n      <td>\\n  New York\\n</td>\n      <td>1,628,706\\n</td>\n      <td>368,500\\n</td>\n      <td>22.83\\n</td>\n      <td>59.13\\n</td>\n      <td>71,341\\n</td>\n    </tr>\n    <tr>\n      <th>3</th>\n      <td>Queens\\n</td>\n      <td>\\n   Queens\\n</td>\n      <td>2,253,858\\n</td>\n      <td>41,400\\n</td>\n      <td>108.53\\n</td>\n      <td>281.09\\n</td>\n      <td>20,767\\n</td>\n    </tr>\n    <tr>\n      <th>4</th>\n      <td>Staten Island\\n</td>\n      <td>\\n   Richmond\\n</td>\n      <td>476,143\\n</td>\n      <td>30,500\\n</td>\n      <td>58.37\\n</td>\n      <td>151.18\\n</td>\n      <td>8,157\\n</td>\n    </tr>\n    <tr>\n      <th>5</th>\n      <td>City of New York</td>\n      <td>8,336,817</td>\n      <td>842.343</td>\n      <td>302.64</td>\n      <td>783.83</td>\n      <td>27,547</td>\n      <td>10,636\\n</td>\n    </tr>\n    <tr>\n      <th>6</th>\n      <td>State of New York</td>\n      <td>19,453,561</td>\n      <td>1,731.910</td>\n      <td>47,126.40</td>\n      <td>122,056.82</td>\n      <td>412</td>\n      <td>159\\n</td>\n    </tr>\n    <tr>\n      <th>7</th>\n      <td>Sources:[12][13][14] and see individual boroug...</td>\n      <td>NaN</td>\n      <td>NaN</td>\n      <td>NaN</td>\n      <td>NaN</td>\n      <td>NaN</td>\n      <td>NaN</td>\n    </tr>\n  </tbody>\n</table>\n</div>",
                        "text/plain": "                       NewYorkCitysfiveboroughsvte\\n   Jurisdiction\\n  \\\n0                                        The Bronx\\n      \\n  Bronx\\n   \n1                                         Brooklyn\\n      \\n  Kings\\n   \n2                                        Manhattan\\n   \\n  New York\\n   \n3                                           Queens\\n    \\n   Queens\\n   \n4                                    Staten Island\\n  \\n   Richmond\\n   \n5                                   City of New York        8,336,817   \n6                                  State of New York       19,453,561   \n7  Sources:[12][13][14] and see individual boroug...              NaN   \n\n  Population\\n Landarea\\n   Density\\n persons_sq_mi persons_sq_km  \n0  1,418,207\\n   30,100\\n     42.10\\n      109.04\\n      33,867\\n  \n1  2,559,903\\n   35,800\\n     70.82\\n      183.42\\n      36,147\\n  \n2  1,628,706\\n  368,500\\n     22.83\\n       59.13\\n      71,341\\n  \n3  2,253,858\\n   41,400\\n    108.53\\n      281.09\\n      20,767\\n  \n4    476,143\\n   30,500\\n     58.37\\n      151.18\\n       8,157\\n  \n5      842.343     302.64      783.83        27,547      10,636\\n  \n6    1,731.910  47,126.40  122,056.82           412         159\\n  \n7          NaN        NaN         NaN           NaN           NaN  "
                    },
                    "execution_count": 84,
                    "metadata": {},
                    "output_type": "execute_result"
                }
            ],
            "source": "Pop_data.columns = Pop_data.columns.str.replace(' ', '')\nPop_data.columns = Pop_data.columns.str.replace('\\'','')\nPop_data.rename(columns={'Borough':'persons_sq_mi','County':'persons_sq_km'}, inplace=True)\nPop_data"
        },
        {
            "cell_type": "code",
            "execution_count": 85,
            "metadata": {},
            "outputs": [
                {
                    "data": {
                        "text/html": "<div>\n<style scoped>\n    .dataframe tbody tr th:only-of-type {\n        vertical-align: middle;\n    }\n\n    .dataframe tbody tr th {\n        vertical-align: top;\n    }\n\n    .dataframe thead th {\n        text-align: right;\n    }\n</style>\n<table border=\"1\" class=\"dataframe\">\n  <thead>\n    <tr style=\"text-align: right;\">\n      <th></th>\n      <th>Borough</th>\n      <th>County</th>\n      <th>Estimate_2019</th>\n      <th>square_miles</th>\n      <th>square_km</th>\n      <th>persons_sq_mi</th>\n      <th>persons_sq_km</th>\n    </tr>\n  </thead>\n  <tbody>\n    <tr>\n      <th>0</th>\n      <td>The Bronx\\n</td>\n      <td>\\n  Bronx\\n</td>\n      <td>1,418,207\\n</td>\n      <td>30,100\\n</td>\n      <td>42.10\\n</td>\n      <td>109.04\\n</td>\n      <td>33,867\\n</td>\n    </tr>\n    <tr>\n      <th>1</th>\n      <td>Brooklyn\\n</td>\n      <td>\\n  Kings\\n</td>\n      <td>2,559,903\\n</td>\n      <td>35,800\\n</td>\n      <td>70.82\\n</td>\n      <td>183.42\\n</td>\n      <td>36,147\\n</td>\n    </tr>\n    <tr>\n      <th>2</th>\n      <td>Manhattan\\n</td>\n      <td>\\n  New York\\n</td>\n      <td>1,628,706\\n</td>\n      <td>368,500\\n</td>\n      <td>22.83\\n</td>\n      <td>59.13\\n</td>\n      <td>71,341\\n</td>\n    </tr>\n    <tr>\n      <th>3</th>\n      <td>Queens\\n</td>\n      <td>\\n   Queens\\n</td>\n      <td>2,253,858\\n</td>\n      <td>41,400\\n</td>\n      <td>108.53\\n</td>\n      <td>281.09\\n</td>\n      <td>20,767\\n</td>\n    </tr>\n    <tr>\n      <th>4</th>\n      <td>Staten Island\\n</td>\n      <td>\\n   Richmond\\n</td>\n      <td>476,143\\n</td>\n      <td>30,500\\n</td>\n      <td>58.37\\n</td>\n      <td>151.18\\n</td>\n      <td>8,157\\n</td>\n    </tr>\n    <tr>\n      <th>5</th>\n      <td>City of New York</td>\n      <td>8,336,817</td>\n      <td>842.343</td>\n      <td>302.64</td>\n      <td>783.83</td>\n      <td>27,547</td>\n      <td>10,636\\n</td>\n    </tr>\n    <tr>\n      <th>6</th>\n      <td>State of New York</td>\n      <td>19,453,561</td>\n      <td>1,731.910</td>\n      <td>47,126.40</td>\n      <td>122,056.82</td>\n      <td>412</td>\n      <td>159\\n</td>\n    </tr>\n    <tr>\n      <th>7</th>\n      <td>Sources:[12][13][14] and see individual boroug...</td>\n      <td>NaN</td>\n      <td>NaN</td>\n      <td>NaN</td>\n      <td>NaN</td>\n      <td>NaN</td>\n      <td>NaN</td>\n    </tr>\n  </tbody>\n</table>\n</div>",
                        "text/plain": "                                             Borough           County  \\\n0                                        The Bronx\\n      \\n  Bronx\\n   \n1                                         Brooklyn\\n      \\n  Kings\\n   \n2                                        Manhattan\\n   \\n  New York\\n   \n3                                           Queens\\n    \\n   Queens\\n   \n4                                    Staten Island\\n  \\n   Richmond\\n   \n5                                   City of New York        8,336,817   \n6                                  State of New York       19,453,561   \n7  Sources:[12][13][14] and see individual boroug...              NaN   \n\n  Estimate_2019 square_miles   square_km persons_sq_mi persons_sq_km  \n0   1,418,207\\n     30,100\\n     42.10\\n      109.04\\n      33,867\\n  \n1   2,559,903\\n     35,800\\n     70.82\\n      183.42\\n      36,147\\n  \n2   1,628,706\\n    368,500\\n     22.83\\n       59.13\\n      71,341\\n  \n3   2,253,858\\n     41,400\\n    108.53\\n      281.09\\n      20,767\\n  \n4     476,143\\n     30,500\\n     58.37\\n      151.18\\n       8,157\\n  \n5       842.343       302.64      783.83        27,547      10,636\\n  \n6     1,731.910    47,126.40  122,056.82           412         159\\n  \n7           NaN          NaN         NaN           NaN           NaN  "
                    },
                    "execution_count": 85,
                    "metadata": {},
                    "output_type": "execute_result"
                }
            ],
            "source": "Pop_data.rename(columns = {'NewYorkCitysfiveboroughsvte\\n' : 'Borough',\n                   'Jurisdiction\\n':'County',\n                   'Population\\n':'Estimate_2019', \n                   'Landarea\\n':'square_miles',\n                    'Density\\n':'square_km'}, inplace=True)\nPop_data"
        },
        {
            "cell_type": "markdown",
            "metadata": {},
            "source": "## Replace newline('\\n') from each string from left and right sides"
        },
        {
            "cell_type": "code",
            "execution_count": 86,
            "metadata": {},
            "outputs": [
                {
                    "data": {
                        "text/html": "<div>\n<style scoped>\n    .dataframe tbody tr th:only-of-type {\n        vertical-align: middle;\n    }\n\n    .dataframe tbody tr th {\n        vertical-align: top;\n    }\n\n    .dataframe thead th {\n        text-align: right;\n    }\n</style>\n<table border=\"1\" class=\"dataframe\">\n  <thead>\n    <tr style=\"text-align: right;\">\n      <th></th>\n      <th>Borough</th>\n      <th>County</th>\n      <th>Estimate_2019</th>\n      <th>square_miles</th>\n      <th>square_km</th>\n      <th>persons_sq_mi</th>\n      <th>persons_sq_km</th>\n    </tr>\n  </thead>\n  <tbody>\n    <tr>\n      <th>0</th>\n      <td>The Bronx</td>\n      <td>Bronx</td>\n      <td>1,418,207</td>\n      <td>30,100</td>\n      <td>42.10</td>\n      <td>109.04</td>\n      <td>33,867</td>\n    </tr>\n    <tr>\n      <th>1</th>\n      <td>Brooklyn</td>\n      <td>Kings</td>\n      <td>2,559,903</td>\n      <td>35,800</td>\n      <td>70.82</td>\n      <td>183.42</td>\n      <td>36,147</td>\n    </tr>\n    <tr>\n      <th>2</th>\n      <td>Manhattan</td>\n      <td>New York</td>\n      <td>1,628,706</td>\n      <td>368,500</td>\n      <td>22.83</td>\n      <td>59.13</td>\n      <td>71,341</td>\n    </tr>\n    <tr>\n      <th>3</th>\n      <td>Queens</td>\n      <td>Queens</td>\n      <td>2,253,858</td>\n      <td>41,400</td>\n      <td>108.53</td>\n      <td>281.09</td>\n      <td>20,767</td>\n    </tr>\n    <tr>\n      <th>4</th>\n      <td>Staten Island</td>\n      <td>Richmond</td>\n      <td>476,143</td>\n      <td>30,500</td>\n      <td>58.37</td>\n      <td>151.18</td>\n      <td>8,157</td>\n    </tr>\n    <tr>\n      <th>5</th>\n      <td>City of New York</td>\n      <td>8,336,817</td>\n      <td>842.343</td>\n      <td>302.64</td>\n      <td>783.83</td>\n      <td>27,547</td>\n      <td>10,636</td>\n    </tr>\n    <tr>\n      <th>6</th>\n      <td>State of New York</td>\n      <td>19,453,561</td>\n      <td>1,731.910</td>\n      <td>47,126.40</td>\n      <td>122,056.82</td>\n      <td>412</td>\n      <td>159</td>\n    </tr>\n    <tr>\n      <th>7</th>\n      <td>Sources:[12][13][14] and see individual boroug...</td>\n      <td>NaN</td>\n      <td>NaN</td>\n      <td>NaN</td>\n      <td>NaN</td>\n      <td>NaN</td>\n      <td>NaN</td>\n    </tr>\n  </tbody>\n</table>\n</div>",
                        "text/plain": "                                             Borough       County  \\\n0                                          The Bronx        Bronx   \n1                                           Brooklyn        Kings   \n2                                          Manhattan     New York   \n3                                             Queens       Queens   \n4                                      Staten Island     Richmond   \n5                                   City of New York    8,336,817   \n6                                  State of New York   19,453,561   \n7  Sources:[12][13][14] and see individual boroug...          NaN   \n\n  Estimate_2019 square_miles   square_km persons_sq_mi persons_sq_km  \n0     1,418,207       30,100       42.10        109.04        33,867  \n1     2,559,903       35,800       70.82        183.42        36,147  \n2     1,628,706      368,500       22.83         59.13        71,341  \n3     2,253,858       41,400      108.53        281.09        20,767  \n4       476,143       30,500       58.37        151.18         8,157  \n5       842.343       302.64      783.83        27,547        10,636  \n6     1,731.910    47,126.40  122,056.82           412           159  \n7           NaN          NaN         NaN           NaN           NaN  "
                    },
                    "execution_count": 86,
                    "metadata": {},
                    "output_type": "execute_result"
                }
            ],
            "source": "\nPop_data['Borough']=Pop_data['Borough'].replace(to_replace='\\n', value='', regex=True)\nPop_data['County']=Pop_data['County'].replace(to_replace='\\n', value='', regex=True)\nPop_data['Estimate_2019']=Pop_data['Estimate_2019'].replace(to_replace='\\n', value='', regex=True)\nPop_data['square_miles']=Pop_data['square_miles'].replace(to_replace='\\n', value='', regex=True)\nPop_data['square_km']=Pop_data['square_km'].replace(to_replace='\\n', value='', regex=True)\nPop_data['persons_sq_mi']=Pop_data['persons_sq_mi'].replace(to_replace='\\n', value='', regex=True)\nPop_data['persons_sq_km']=Pop_data['persons_sq_km'].replace(to_replace='\\n', value='', regex=True)\n\nPop_data"
        },
        {
            "cell_type": "markdown",
            "metadata": {},
            "source": "## Shift data in the last two rows"
        },
        {
            "cell_type": "code",
            "execution_count": 88,
            "metadata": {},
            "outputs": [
                {
                    "data": {
                        "text/html": "<div>\n<style scoped>\n    .dataframe tbody tr th:only-of-type {\n        vertical-align: middle;\n    }\n\n    .dataframe tbody tr th {\n        vertical-align: top;\n    }\n\n    .dataframe thead th {\n        text-align: right;\n    }\n</style>\n<table border=\"1\" class=\"dataframe\">\n  <thead>\n    <tr style=\"text-align: right;\">\n      <th></th>\n      <th>Borough</th>\n      <th>County</th>\n      <th>Estimate_2019</th>\n      <th>square_miles</th>\n      <th>square_km</th>\n      <th>persons_sq_mi</th>\n      <th>persons_sq_km</th>\n    </tr>\n  </thead>\n  <tbody>\n    <tr>\n      <th>0</th>\n      <td>The Bronx</td>\n      <td>Bronx</td>\n      <td>1,418,207</td>\n      <td>30,100</td>\n      <td>42.10</td>\n      <td>109.04</td>\n      <td>33,867</td>\n    </tr>\n    <tr>\n      <th>1</th>\n      <td>Brooklyn</td>\n      <td>Kings</td>\n      <td>2,559,903</td>\n      <td>35,800</td>\n      <td>70.82</td>\n      <td>183.42</td>\n      <td>36,147</td>\n    </tr>\n    <tr>\n      <th>2</th>\n      <td>Manhattan</td>\n      <td>New York</td>\n      <td>1,628,706</td>\n      <td>368,500</td>\n      <td>22.83</td>\n      <td>59.13</td>\n      <td>71,341</td>\n    </tr>\n    <tr>\n      <th>3</th>\n      <td>Queens</td>\n      <td>Queens</td>\n      <td>2,253,858</td>\n      <td>41,400</td>\n      <td>108.53</td>\n      <td>281.09</td>\n      <td>20,767</td>\n    </tr>\n    <tr>\n      <th>4</th>\n      <td>Staten Island</td>\n      <td>Richmond</td>\n      <td>476,143</td>\n      <td>30,500</td>\n      <td>58.37</td>\n      <td>151.18</td>\n      <td>8,157</td>\n    </tr>\n    <tr>\n      <th>5</th>\n      <td>NaN</td>\n      <td>City of New York</td>\n      <td>8,336,817</td>\n      <td>842.343</td>\n      <td>NaN</td>\n      <td>302.64</td>\n      <td>783.83</td>\n    </tr>\n    <tr>\n      <th>6</th>\n      <td>NaN</td>\n      <td>State of New York</td>\n      <td>19,453,561</td>\n      <td>1,731.910</td>\n      <td>NaN</td>\n      <td>47,126.40</td>\n      <td>122,056.82</td>\n    </tr>\n    <tr>\n      <th>7</th>\n      <td>NaN</td>\n      <td>Sources:[12][13][14] and see individual boroug...</td>\n      <td>NaN</td>\n      <td>NaN</td>\n      <td>NaN</td>\n      <td>NaN</td>\n      <td>NaN</td>\n    </tr>\n  </tbody>\n</table>\n</div>",
                        "text/plain": "         Borough                                             County  \\\n0      The Bronx                                              Bronx   \n1       Brooklyn                                              Kings   \n2      Manhattan                                           New York   \n3         Queens                                             Queens   \n4  Staten Island                                           Richmond   \n5            NaN                                   City of New York   \n6            NaN                                  State of New York   \n7            NaN  Sources:[12][13][14] and see individual boroug...   \n\n  Estimate_2019 square_miles square_km persons_sq_mi persons_sq_km  \n0     1,418,207       30,100     42.10        109.04        33,867  \n1     2,559,903       35,800     70.82        183.42        36,147  \n2     1,628,706      368,500     22.83         59.13        71,341  \n3     2,253,858       41,400    108.53        281.09        20,767  \n4       476,143       30,500     58.37        151.18         8,157  \n5     8,336,817      842.343       NaN        302.64        783.83  \n6    19,453,561    1,731.910       NaN     47,126.40    122,056.82  \n7           NaN          NaN       NaN           NaN           NaN  "
                    },
                    "execution_count": 88,
                    "metadata": {},
                    "output_type": "execute_result"
                }
            ],
            "source": "\nPop_data.loc[5:,['persons_sq_mi','persons_sq_km']] = Pop_data.loc[2:,['persons_sq_mi','persons_sq_km']].shift(1,axis=1)\nPop_data.loc[5:,['square_km','persons_sq_mi']] = Pop_data.loc[2:,['square_km','persons_sq_mi']].shift(1,axis=1)\nPop_data.loc[5:,['square_miles','square_km']] = Pop_data.loc[2:,['square_miles','square_km']].shift(1,axis=1)\nPop_data.loc[5:,['Estimate_2019','square_miles']] = Pop_data.loc[2:,['Estimate_2019','square_miles']].shift(1,axis=1)\nPop_data.loc[5:,['County','Estimate_2019']] = Pop_data.loc[2:,['County','Estimate_2019']].shift(1,axis=1)\nPop_data.loc[5:,['Borough','County']] = Pop_data.loc[2:,['Borough','County']].shift(1,axis=1)\nPop_data"
        },
        {
            "cell_type": "markdown",
            "metadata": {},
            "source": "## Remove NaN"
        },
        {
            "cell_type": "code",
            "execution_count": 89,
            "metadata": {},
            "outputs": [
                {
                    "data": {
                        "text/html": "<div>\n<style scoped>\n    .dataframe tbody tr th:only-of-type {\n        vertical-align: middle;\n    }\n\n    .dataframe tbody tr th {\n        vertical-align: top;\n    }\n\n    .dataframe thead th {\n        text-align: right;\n    }\n</style>\n<table border=\"1\" class=\"dataframe\">\n  <thead>\n    <tr style=\"text-align: right;\">\n      <th></th>\n      <th>Borough</th>\n      <th>County</th>\n      <th>Estimate_2019</th>\n      <th>square_miles</th>\n      <th>square_km</th>\n      <th>persons_sq_mi</th>\n      <th>persons_sq_km</th>\n    </tr>\n  </thead>\n  <tbody>\n    <tr>\n      <th>0</th>\n      <td>The Bronx</td>\n      <td>Bronx</td>\n      <td>1,418,207</td>\n      <td>30,100</td>\n      <td>42.10</td>\n      <td>109.04</td>\n      <td>33,867</td>\n    </tr>\n    <tr>\n      <th>1</th>\n      <td>Brooklyn</td>\n      <td>Kings</td>\n      <td>2,559,903</td>\n      <td>35,800</td>\n      <td>70.82</td>\n      <td>183.42</td>\n      <td>36,147</td>\n    </tr>\n    <tr>\n      <th>2</th>\n      <td>Manhattan</td>\n      <td>New York</td>\n      <td>1,628,706</td>\n      <td>368,500</td>\n      <td>22.83</td>\n      <td>59.13</td>\n      <td>71,341</td>\n    </tr>\n    <tr>\n      <th>3</th>\n      <td>Queens</td>\n      <td>Queens</td>\n      <td>2,253,858</td>\n      <td>41,400</td>\n      <td>108.53</td>\n      <td>281.09</td>\n      <td>20,767</td>\n    </tr>\n    <tr>\n      <th>4</th>\n      <td>Staten Island</td>\n      <td>Richmond</td>\n      <td>476,143</td>\n      <td>30,500</td>\n      <td>58.37</td>\n      <td>151.18</td>\n      <td>8,157</td>\n    </tr>\n    <tr>\n      <th>5</th>\n      <td></td>\n      <td>City of New York</td>\n      <td>8,336,817</td>\n      <td>842.343</td>\n      <td></td>\n      <td>302.64</td>\n      <td>783.83</td>\n    </tr>\n    <tr>\n      <th>6</th>\n      <td></td>\n      <td>State of New York</td>\n      <td>19,453,561</td>\n      <td>1,731.910</td>\n      <td></td>\n      <td>47,126.40</td>\n      <td>122,056.82</td>\n    </tr>\n    <tr>\n      <th>7</th>\n      <td></td>\n      <td>Sources:[12][13][14] and see individual boroug...</td>\n      <td></td>\n      <td></td>\n      <td></td>\n      <td></td>\n      <td></td>\n    </tr>\n  </tbody>\n</table>\n</div>",
                        "text/plain": "         Borough                                             County  \\\n0      The Bronx                                              Bronx   \n1       Brooklyn                                              Kings   \n2      Manhattan                                           New York   \n3         Queens                                             Queens   \n4  Staten Island                                           Richmond   \n5                                                  City of New York   \n6                                                 State of New York   \n7                 Sources:[12][13][14] and see individual boroug...   \n\n  Estimate_2019 square_miles square_km persons_sq_mi persons_sq_km  \n0     1,418,207       30,100     42.10        109.04        33,867  \n1     2,559,903       35,800     70.82        183.42        36,147  \n2     1,628,706      368,500     22.83         59.13        71,341  \n3     2,253,858       41,400    108.53        281.09        20,767  \n4       476,143       30,500     58.37        151.18         8,157  \n5     8,336,817      842.343                  302.64        783.83  \n6    19,453,561    1,731.910               47,126.40    122,056.82  \n7                                                                   "
                    },
                    "execution_count": 89,
                    "metadata": {},
                    "output_type": "execute_result"
                }
            ],
            "source": "\nPop_data = Pop_data.fillna('')\nPop_data"
        },
        {
            "cell_type": "markdown",
            "metadata": {},
            "source": "## Drop the last row"
        },
        {
            "cell_type": "code",
            "execution_count": 90,
            "metadata": {},
            "outputs": [
                {
                    "data": {
                        "text/html": "<div>\n<style scoped>\n    .dataframe tbody tr th:only-of-type {\n        vertical-align: middle;\n    }\n\n    .dataframe tbody tr th {\n        vertical-align: top;\n    }\n\n    .dataframe thead th {\n        text-align: right;\n    }\n</style>\n<table border=\"1\" class=\"dataframe\">\n  <thead>\n    <tr style=\"text-align: right;\">\n      <th></th>\n      <th>Borough</th>\n      <th>County</th>\n      <th>Estimate_2019</th>\n      <th>square_miles</th>\n      <th>square_km</th>\n      <th>persons_sq_mi</th>\n      <th>persons_sq_km</th>\n    </tr>\n  </thead>\n  <tbody>\n    <tr>\n      <th>0</th>\n      <td>The Bronx</td>\n      <td>Bronx</td>\n      <td>1,418,207</td>\n      <td>30,100</td>\n      <td>42.10</td>\n      <td>109.04</td>\n      <td>33,867</td>\n    </tr>\n    <tr>\n      <th>1</th>\n      <td>Brooklyn</td>\n      <td>Kings</td>\n      <td>2,559,903</td>\n      <td>35,800</td>\n      <td>70.82</td>\n      <td>183.42</td>\n      <td>36,147</td>\n    </tr>\n    <tr>\n      <th>2</th>\n      <td>Manhattan</td>\n      <td>New York</td>\n      <td>1,628,706</td>\n      <td>368,500</td>\n      <td>22.83</td>\n      <td>59.13</td>\n      <td>71,341</td>\n    </tr>\n    <tr>\n      <th>3</th>\n      <td>Queens</td>\n      <td>Queens</td>\n      <td>2,253,858</td>\n      <td>41,400</td>\n      <td>108.53</td>\n      <td>281.09</td>\n      <td>20,767</td>\n    </tr>\n    <tr>\n      <th>4</th>\n      <td>Staten Island</td>\n      <td>Richmond</td>\n      <td>476,143</td>\n      <td>30,500</td>\n      <td>58.37</td>\n      <td>151.18</td>\n      <td>8,157</td>\n    </tr>\n    <tr>\n      <th>5</th>\n      <td></td>\n      <td>City of New York</td>\n      <td>8,336,817</td>\n      <td>842.343</td>\n      <td></td>\n      <td>302.64</td>\n      <td>783.83</td>\n    </tr>\n    <tr>\n      <th>6</th>\n      <td></td>\n      <td>State of New York</td>\n      <td>19,453,561</td>\n      <td>1,731.910</td>\n      <td></td>\n      <td>47,126.40</td>\n      <td>122,056.82</td>\n    </tr>\n  </tbody>\n</table>\n</div>",
                        "text/plain": "         Borough             County Estimate_2019 square_miles square_km  \\\n0      The Bronx              Bronx     1,418,207       30,100     42.10   \n1       Brooklyn              Kings     2,559,903       35,800     70.82   \n2      Manhattan           New York     1,628,706      368,500     22.83   \n3         Queens             Queens     2,253,858       41,400    108.53   \n4  Staten Island           Richmond       476,143       30,500     58.37   \n5                  City of New York     8,336,817      842.343             \n6                 State of New York    19,453,561    1,731.910             \n\n  persons_sq_mi persons_sq_km  \n0        109.04        33,867  \n1        183.42        36,147  \n2         59.13        71,341  \n3        281.09        20,767  \n4        151.18         8,157  \n5        302.64        783.83  \n6     47,126.40    122,056.82  "
                    },
                    "execution_count": 90,
                    "metadata": {},
                    "output_type": "execute_result"
                }
            ],
            "source": "\ni = Pop_data[((Pop_data.County == 'Sources:[12][13][14] and see individual borough articles'))].index\nPop_data.drop(i)"
        },
        {
            "cell_type": "markdown",
            "metadata": {},
            "source": "## Save data frame as csv file"
        },
        {
            "cell_type": "code",
            "execution_count": 92,
            "metadata": {},
            "outputs": [
                {
                    "name": "stdout",
                    "output_type": "stream",
                    "text": "Data frame saved\n"
                }
            ],
            "source": "Pop_data.to_csv('BON2_POPULATION.csv',index=False)\nprint(\"Data frame saved\")"
        },
        {
            "cell_type": "code",
            "execution_count": null,
            "metadata": {},
            "outputs": [],
            "source": ""
        }
    ],
    "metadata": {
        "kernelspec": {
            "display_name": "Python 3.7",
            "language": "python",
            "name": "python3"
        }
    },
    "nbformat": 4,
    "nbformat_minor": 1
}